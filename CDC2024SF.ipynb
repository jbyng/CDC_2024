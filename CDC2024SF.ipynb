{
  "nbformat": 4,
  "nbformat_minor": 0,
  "metadata": {
    "colab": {
      "provenance": []
    },
    "kernelspec": {
      "name": "python3",
      "display_name": "Python 3"
    },
    "language_info": {
      "name": "python"
    }
  },
  "cells": [
    {
      "cell_type": "code",
      "source": [
        "import pandas as pd\n",
        "import matplotlib.pyplot as plt\n",
        "import numpy as np"
      ],
      "metadata": {
        "id": "gSE397DUH4nl"
      },
      "execution_count": null,
      "outputs": []
    },
    {
      "cell_type": "code",
      "source": [
        "San_Francisco_df = pd.read_excel('employees.xlsx', sheet_name='San Francisco')"
      ],
      "metadata": {
        "id": "tI5KN66qMbbE"
      },
      "execution_count": null,
      "outputs": []
    },
    {
      "cell_type": "code",
      "source": [
        "print(San_Francisco_df.head(35))"
      ],
      "metadata": {
        "colab": {
          "base_uri": "https://localhost:8080/"
        },
        "id": "dL2Mu2XHMmtR",
        "outputId": "04e59198-3a4c-4153-adc2-52a37f312947"
      },
      "execution_count": null,
      "outputs": [
        {
          "output_type": "stream",
          "name": "stdout",
          "text": [
            "    Year  retail_employees\n",
            "0   1993             189.8\n",
            "1   1994             187.5\n",
            "2   1995             190.2\n",
            "3   1996             193.6\n",
            "4   1997             199.7\n",
            "5   1998             203.1\n",
            "6   1999             209.2\n",
            "7   2000             214.8\n",
            "8   2001             215.2\n",
            "9   2002             209.3\n",
            "10  2003             205.1\n",
            "11  2004             203.7\n",
            "12  2005             205.7\n",
            "13  2006             206.8\n",
            "14  2007             208.3\n",
            "15  2008             203.9\n",
            "16  2009             190.6\n",
            "17  2010             187.6\n",
            "18  2011             188.8\n",
            "19  2012             193.8\n",
            "20  2013             198.9\n",
            "21  2014             203.8\n",
            "22  2015             207.9\n",
            "23  2016             209.8\n",
            "24  2017             211.1\n",
            "25  2018             210.8\n",
            "26  2019             205.9\n",
            "27  2020             183.1\n",
            "28  2021             185.6\n",
            "29  2022             186.8\n",
            "30  2023             183.7\n"
          ]
        }
      ]
    },
    {
      "cell_type": "code",
      "source": [
        "business_df = pd.read_excel('business.xlsx')"
      ],
      "metadata": {
        "id": "6HyCZWYZOqOc"
      },
      "execution_count": null,
      "outputs": []
    },
    {
      "cell_type": "code",
      "source": [
        "filtered_business_df = pd.read_excel('business.xlsx')"
      ],
      "metadata": {
        "id": "EKgLDYdqPA1e"
      },
      "execution_count": null,
      "outputs": []
    },
    {
      "cell_type": "code",
      "source": [
        "print(business_df.head())"
      ],
      "metadata": {
        "colab": {
          "base_uri": "https://localhost:8080/"
        },
        "id": "ulzYy6PIRYK-",
        "outputId": "23d36338-bd4b-43cb-b151-83cc84f9d017"
      },
      "execution_count": null,
      "outputs": [
        {
          "output_type": "stream",
          "name": "stdout",
          "text": [
            "   Year                           city1                          city2  \\\n",
            "0  2021  Allentown/Bethlehem/Easton, PA  Tampa, FL (Metropolitan Area)   \n",
            "1  2021  Allentown/Bethlehem/Easton, PA  Tampa, FL (Metropolitan Area)   \n",
            "2  2021                 Albuquerque, NM          Dallas/Fort Worth, TX   \n",
            "3  2021                 Albuquerque, NM          Dallas/Fort Worth, TX   \n",
            "4  2021                 Albuquerque, NM                    Phoenix, AZ   \n",
            "\n",
            "   passengers    fare  \n",
            "0         180   81.43  \n",
            "1          19  208.93  \n",
            "2         204  184.56  \n",
            "3         264  182.64  \n",
            "4         398  177.11  \n"
          ]
        }
      ]
    },
    {
      "cell_type": "code",
      "source": [
        "filtered_business_df = business_df[business_df['city1'].str.contains('San Francisco') | business_df['city2'].str.contains('San Francisco') ]"
      ],
      "metadata": {
        "id": "2mCj1sILZGs2"
      },
      "execution_count": null,
      "outputs": []
    },
    {
      "cell_type": "code",
      "source": [
        "from google.colab import drive\n",
        "drive.mount('/content/drive')"
      ],
      "metadata": {
        "id": "DeUUX_VIxnX6",
        "colab": {
          "base_uri": "https://localhost:8080/"
        },
        "outputId": "25cf9a8e-f3c1-4974-85c5-df84ab9761e4"
      },
      "execution_count": null,
      "outputs": [
        {
          "output_type": "stream",
          "name": "stdout",
          "text": [
            "Mounted at /content/drive\n"
          ]
        }
      ]
    },
    {
      "cell_type": "code",
      "source": [
        "print(filtered_business_df.head())"
      ],
      "metadata": {
        "colab": {
          "base_uri": "https://localhost:8080/"
        },
        "id": "chTm5LUOZkaB",
        "outputId": "02765fe2-56a7-4bb8-aaff-dc44acdec1f4"
      },
      "execution_count": null,
      "outputs": [
        {
          "output_type": "stream",
          "name": "stdout",
          "text": [
            "     Year                  city1                                  city2  \\\n",
            "21   2021        Albuquerque, NM  San Francisco, CA (Metropolitan Area)   \n",
            "22   2021        Albuquerque, NM  San Francisco, CA (Metropolitan Area)   \n",
            "23   2021        Albuquerque, NM  San Francisco, CA (Metropolitan Area)   \n",
            "115  2021  Dallas/Fort Worth, TX  San Francisco, CA (Metropolitan Area)   \n",
            "116  2021  Dallas/Fort Worth, TX  San Francisco, CA (Metropolitan Area)   \n",
            "\n",
            "     passengers    fare  \n",
            "21          216  194.36  \n",
            "22          188  246.07  \n",
            "23           61  209.22  \n",
            "115         344  187.84  \n",
            "116         162  206.97  \n"
          ]
        }
      ]
    },
    {
      "cell_type": "code",
      "source": [
        "print(filtered_business_df.head(50))"
      ],
      "metadata": {
        "colab": {
          "base_uri": "https://localhost:8080/"
        },
        "id": "gjo5x3boZusb",
        "outputId": "c404c5ff-0242-4023-fd73-8b41006aa441"
      },
      "execution_count": null,
      "outputs": [
        {
          "output_type": "stream",
          "name": "stdout",
          "text": [
            "     Year                              city1  \\\n",
            "21   2021                    Albuquerque, NM   \n",
            "22   2021                    Albuquerque, NM   \n",
            "23   2021                    Albuquerque, NM   \n",
            "115  2021              Dallas/Fort Worth, TX   \n",
            "116  2021              Dallas/Fort Worth, TX   \n",
            "117  2021              Dallas/Fort Worth, TX   \n",
            "118  2021              Dallas/Fort Worth, TX   \n",
            "119  2021              Dallas/Fort Worth, TX   \n",
            "120  2021              Dallas/Fort Worth, TX   \n",
            "186  2021                     Pittsburgh, PA   \n",
            "187  2021                     Pittsburgh, PA   \n",
            "188  2021                     Pittsburgh, PA   \n",
            "222  2021                         Denver, CO   \n",
            "223  2021                         Denver, CO   \n",
            "224  2021                         Denver, CO   \n",
            "257  2021    Atlanta, GA (Metropolitan Area)   \n",
            "258  2021    Atlanta, GA (Metropolitan Area)   \n",
            "259  2021    Atlanta, GA (Metropolitan Area)   \n",
            "287  2021                         Austin, TX   \n",
            "288  2021                         Austin, TX   \n",
            "289  2021                         Austin, TX   \n",
            "320  2021                        Phoenix, AZ   \n",
            "321  2021                        Phoenix, AZ   \n",
            "322  2021                        Phoenix, AZ   \n",
            "323  2021                        Phoenix, AZ   \n",
            "338  2021                       Hartford, CT   \n",
            "339  2021                       Hartford, CT   \n",
            "340  2021                       Hartford, CT   \n",
            "434  2021  Cleveland, OH (Metropolitan Area)   \n",
            "435  2021  Cleveland, OH (Metropolitan Area)   \n",
            "436  2021  Cleveland, OH (Metropolitan Area)   \n",
            "437  2021  Cleveland, OH (Metropolitan Area)   \n",
            "438  2021  Cleveland, OH (Metropolitan Area)   \n",
            "439  2021  Cleveland, OH (Metropolitan Area)   \n",
            "473  2021                      Nashville, TN   \n",
            "474  2021                      Nashville, TN   \n",
            "475  2021                      Nashville, TN   \n",
            "488  2021                          Boise, ID   \n",
            "489  2021                          Boise, ID   \n",
            "490  2021                          Boise, ID   \n",
            "593  2021     Boston, MA (Metropolitan Area)   \n",
            "594  2021     Boston, MA (Metropolitan Area)   \n",
            "595  2021     Boston, MA (Metropolitan Area)   \n",
            "596  2021     Boston, MA (Metropolitan Area)   \n",
            "597  2021     Boston, MA (Metropolitan Area)   \n",
            "598  2021     Boston, MA (Metropolitan Area)   \n",
            "599  2021     Boston, MA (Metropolitan Area)   \n",
            "600  2021     Boston, MA (Metropolitan Area)   \n",
            "601  2021     Boston, MA (Metropolitan Area)   \n",
            "716  2021                        Bozeman, MT   \n",
            "\n",
            "                                     city2  passengers    fare  \n",
            "21   San Francisco, CA (Metropolitan Area)         216  194.36  \n",
            "22   San Francisco, CA (Metropolitan Area)         188  246.07  \n",
            "23   San Francisco, CA (Metropolitan Area)          61  209.22  \n",
            "115  San Francisco, CA (Metropolitan Area)         344  187.84  \n",
            "116  San Francisco, CA (Metropolitan Area)         162  206.97  \n",
            "117  San Francisco, CA (Metropolitan Area)         246  204.27  \n",
            "118  San Francisco, CA (Metropolitan Area)          40  157.63  \n",
            "119  San Francisco, CA (Metropolitan Area)        1052  229.36  \n",
            "120  San Francisco, CA (Metropolitan Area)         219  267.73  \n",
            "186  San Francisco, CA (Metropolitan Area)          45  297.78  \n",
            "187  San Francisco, CA (Metropolitan Area)         230  361.78  \n",
            "188  San Francisco, CA (Metropolitan Area)          70  321.69  \n",
            "222  San Francisco, CA (Metropolitan Area)         787  153.57  \n",
            "223  San Francisco, CA (Metropolitan Area)        1447  186.15  \n",
            "224  San Francisco, CA (Metropolitan Area)         665  205.14  \n",
            "257  San Francisco, CA (Metropolitan Area)         213  213.36  \n",
            "258  San Francisco, CA (Metropolitan Area)        1111  311.20  \n",
            "259  San Francisco, CA (Metropolitan Area)         177  299.63  \n",
            "287  San Francisco, CA (Metropolitan Area)         217  194.76  \n",
            "288  San Francisco, CA (Metropolitan Area)         822  214.79  \n",
            "289  San Francisco, CA (Metropolitan Area)         500  199.64  \n",
            "320  San Francisco, CA (Metropolitan Area)          10   87.30  \n",
            "321  San Francisco, CA (Metropolitan Area)         768  130.19  \n",
            "322  San Francisco, CA (Metropolitan Area)        1026  135.50  \n",
            "323  San Francisco, CA (Metropolitan Area)         670  167.12  \n",
            "338  San Francisco, CA (Metropolitan Area)          21  285.98  \n",
            "339  San Francisco, CA (Metropolitan Area)         272  293.61  \n",
            "340  San Francisco, CA (Metropolitan Area)          30  354.91  \n",
            "434  San Francisco, CA (Metropolitan Area)           0   80.00  \n",
            "435  San Francisco, CA (Metropolitan Area)           7  382.16  \n",
            "436  San Francisco, CA (Metropolitan Area)           0  266.50  \n",
            "437  San Francisco, CA (Metropolitan Area)          38  265.05  \n",
            "438  San Francisco, CA (Metropolitan Area)         307  355.52  \n",
            "439  San Francisco, CA (Metropolitan Area)          42  313.89  \n",
            "473  San Francisco, CA (Metropolitan Area)         220  255.51  \n",
            "474  San Francisco, CA (Metropolitan Area)         261  295.86  \n",
            "475  San Francisco, CA (Metropolitan Area)         192  239.09  \n",
            "488  San Francisco, CA (Metropolitan Area)         221  123.69  \n",
            "489  San Francisco, CA (Metropolitan Area)         249  132.77  \n",
            "490  San Francisco, CA (Metropolitan Area)         175  140.22  \n",
            "593  San Francisco, CA (Metropolitan Area)          51  316.65  \n",
            "594  San Francisco, CA (Metropolitan Area)        2355  397.02  \n",
            "595  San Francisco, CA (Metropolitan Area)         293  308.50  \n",
            "596  San Francisco, CA (Metropolitan Area)           8  326.17  \n",
            "597  San Francisco, CA (Metropolitan Area)          10  405.26  \n",
            "598  San Francisco, CA (Metropolitan Area)           5  393.34  \n",
            "599  San Francisco, CA (Metropolitan Area)          12  342.96  \n",
            "600  San Francisco, CA (Metropolitan Area)          57  392.13  \n",
            "601  San Francisco, CA (Metropolitan Area)           8  341.45  \n",
            "716  San Francisco, CA (Metropolitan Area)          34  204.75  \n"
          ]
        }
      ]
    },
    {
      "cell_type": "code",
      "source": [
        "print(filtered_business_df.shape)"
      ],
      "metadata": {
        "colab": {
          "base_uri": "https://localhost:8080/"
        },
        "id": "igBN6Rp-alrQ",
        "outputId": "dca9abbe-e261-4787-9991-5f6cc94b13ab"
      },
      "execution_count": null,
      "outputs": [
        {
          "output_type": "stream",
          "name": "stdout",
          "text": [
            "(25441, 5)\n"
          ]
        }
      ]
    },
    {
      "cell_type": "code",
      "source": [
        "dropped_filtered_business_df = filtered_business_df.drop(['city1','city2','fare'], axis=1)\n",
        "print(dropped_filtered_business_df.shape)"
      ],
      "metadata": {
        "colab": {
          "base_uri": "https://localhost:8080/"
        },
        "id": "AZrEL6LhbWHc",
        "outputId": "b75a2f24-db57-41dd-a4c7-f6848f63a3cd"
      },
      "execution_count": null,
      "outputs": [
        {
          "output_type": "stream",
          "name": "stdout",
          "text": [
            "(25441, 2)\n"
          ]
        }
      ]
    },
    {
      "cell_type": "code",
      "source": [
        "filtered_business_df = filtered_business_df[business_df['Year'] != 2024]"
      ],
      "metadata": {
        "colab": {
          "base_uri": "https://localhost:8080/"
        },
        "id": "0UeDv-pqdk6H",
        "outputId": "1cd797b3-5db8-46c1-c419-c8a5623dbf33"
      },
      "execution_count": null,
      "outputs": [
        {
          "output_type": "stream",
          "name": "stderr",
          "text": [
            "<ipython-input-13-02b285071e04>:1: UserWarning: Boolean Series key will be reindexed to match DataFrame index.\n",
            "  filtered_business_df = filtered_business_df[business_df['Year'] != 2024]\n"
          ]
        }
      ]
    },
    {
      "cell_type": "code",
      "source": [
        "print(filtered_business_df.shape)"
      ],
      "metadata": {
        "colab": {
          "base_uri": "https://localhost:8080/"
        },
        "id": "whJLUiVveB0v",
        "outputId": "6c0ec471-7edb-4f06-c0c7-91cb871bac0c"
      },
      "execution_count": null,
      "outputs": [
        {
          "output_type": "stream",
          "name": "stdout",
          "text": [
            "(25258, 5)\n"
          ]
        }
      ]
    },
    {
      "cell_type": "code",
      "source": [
        "dropped_filtered_business_df = filtered_business_df.drop(['city1','city2','fare'], axis=1)\n",
        "print(dropped_filtered_business_df.shape)"
      ],
      "metadata": {
        "colab": {
          "base_uri": "https://localhost:8080/"
        },
        "id": "AU5EqnK_eXD9",
        "outputId": "fda5b6e4-38f8-430d-db0f-75f85f6009aa"
      },
      "execution_count": null,
      "outputs": [
        {
          "output_type": "stream",
          "name": "stdout",
          "text": [
            "(25258, 2)\n"
          ]
        }
      ]
    },
    {
      "cell_type": "code",
      "source": [
        "summed_dropped_filtered_business_df = dropped_filtered_business_df.groupby('Year')['passengers'].sum().reset_index()"
      ],
      "metadata": {
        "id": "K3QlEWKEfP-k"
      },
      "execution_count": null,
      "outputs": []
    },
    {
      "cell_type": "code",
      "source": [
        "print(summed_dropped_filtered_business_df)"
      ],
      "metadata": {
        "colab": {
          "base_uri": "https://localhost:8080/"
        },
        "id": "iNsMPkfNgK1z",
        "outputId": "15cfdcf1-ec3b-4523-b171-b7b03338a319"
      },
      "execution_count": null,
      "outputs": [
        {
          "output_type": "stream",
          "name": "stdout",
          "text": [
            "    Year  passengers\n",
            "0   1993      218851\n",
            "1   1994       49689\n",
            "2   1996      276523\n",
            "3   1997      315229\n",
            "4   1998      323080\n",
            "5   1999      354785\n",
            "6   2000      394074\n",
            "7   2001      342487\n",
            "8   2002      307406\n",
            "9   2003      308809\n",
            "10  2004      334484\n",
            "11  2005      348842\n",
            "12  2006      364175\n",
            "13  2007      371328\n",
            "14  2008      363434\n",
            "15  2009      348043\n",
            "16  2010      349705\n",
            "17  2011      356460\n",
            "18  2012      367415\n",
            "19  2013      375106\n",
            "20  2014      396618\n",
            "21  2015      413833\n",
            "22  2016      431806\n",
            "23  2017      446566\n",
            "24  2018      473267\n",
            "25  2019      468331\n",
            "26  2020      129365\n",
            "27  2021      218186\n",
            "28  2022      344936\n",
            "29  2023      370819\n"
          ]
        }
      ]
    },
    {
      "cell_type": "code",
      "source": [
        "merged_SF_df = pd.merge(San_Francisco_df, summed_dropped_filtered_business_df, on='Year', how='inner')"
      ],
      "metadata": {
        "id": "1zJH0oiC3soJ"
      },
      "execution_count": null,
      "outputs": []
    },
    {
      "cell_type": "code",
      "source": [
        "print(merged_SF_df)"
      ],
      "metadata": {
        "colab": {
          "base_uri": "https://localhost:8080/"
        },
        "id": "myXw2auE35Cj",
        "outputId": "4c6439ae-ee27-4d40-c885-6b000bcb6915"
      },
      "execution_count": null,
      "outputs": [
        {
          "output_type": "stream",
          "name": "stdout",
          "text": [
            "    Year  retail_employees  passengers\n",
            "0   1993             189.8      218851\n",
            "1   1994             187.5       49689\n",
            "2   1996             193.6      276523\n",
            "3   1997             199.7      315229\n",
            "4   1998             203.1      323080\n",
            "5   1999             209.2      354785\n",
            "6   2000             214.8      394074\n",
            "7   2001             215.2      342487\n",
            "8   2002             209.3      307406\n",
            "9   2003             205.1      308809\n",
            "10  2004             203.7      334484\n",
            "11  2005             205.7      348842\n",
            "12  2006             206.8      364175\n",
            "13  2007             208.3      371328\n",
            "14  2008             203.9      363434\n",
            "15  2009             190.6      348043\n",
            "16  2010             187.6      349705\n",
            "17  2011             188.8      356460\n",
            "18  2012             193.8      367415\n",
            "19  2013             198.9      375106\n",
            "20  2014             203.8      396618\n",
            "21  2015             207.9      413833\n",
            "22  2016             209.8      431806\n",
            "23  2017             211.1      446566\n",
            "24  2018             210.8      473267\n",
            "25  2019             205.9      468331\n",
            "26  2020             183.1      129365\n",
            "27  2021             185.6      218186\n",
            "28  2022             186.8      344936\n",
            "29  2023             183.7      370819\n"
          ]
        }
      ]
    },
    {
      "cell_type": "code",
      "source": [
        "#Make File!\n",
        "merged_SF_df.to_excel('SF_final.xlsx', index = False, sheet_name = \"Processed_data\")"
      ],
      "metadata": {
        "id": "zmMNHDLZehSZ"
      },
      "execution_count": null,
      "outputs": []
    }
  ]
}