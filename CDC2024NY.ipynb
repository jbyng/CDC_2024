{
  "nbformat": 4,
  "nbformat_minor": 0,
  "metadata": {
    "colab": {
      "provenance": []
    },
    "kernelspec": {
      "name": "python3",
      "display_name": "Python 3"
    },
    "language_info": {
      "name": "python"
    }
  },
  "cells": [
    {
      "cell_type": "code",
      "source": [
        "import pandas as pd\n",
        "import matplotlib.pyplot as plt\n",
        "import numpy as np"
      ],
      "metadata": {
        "id": "gSE397DUH4nl"
      },
      "execution_count": 1,
      "outputs": []
    },
    {
      "cell_type": "code",
      "source": [
        "New_York_df = pd.read_excel('employees.xlsx', sheet_name='New York')"
      ],
      "metadata": {
        "id": "hsijqr4_LOVd"
      },
      "execution_count": 2,
      "outputs": []
    },
    {
      "cell_type": "code",
      "source": [
        "print(New_York_df.head(35))"
      ],
      "metadata": {
        "id": "wxM-dpcaMBNZ",
        "colab": {
          "base_uri": "https://localhost:8080/"
        },
        "outputId": "d6081441-288a-4efc-c1cb-0086bb5b4658"
      },
      "execution_count": 3,
      "outputs": [
        {
          "output_type": "stream",
          "name": "stdout",
          "text": [
            "    Year  retail_employees\n",
            "0   1993             234.0\n",
            "1   1994             237.0\n",
            "2   1995             243.4\n",
            "3   1996             248.5\n",
            "4   1997             253.4\n",
            "5   1998             260.4\n",
            "6   1999             270.4\n",
            "7   2000             281.8\n",
            "8   2001             272.2\n",
            "9   2002             268.3\n",
            "10  2003             267.5\n",
            "11  2004             273.7\n",
            "12  2005             281.5\n",
            "13  2006             287.6\n",
            "14  2007             295.6\n",
            "15  2008             299.7\n",
            "16  2009             292.1\n",
            "17  2010             302.8\n",
            "18  2011             314.5\n",
            "19  2012             328.0\n",
            "20  2013             340.2\n",
            "21  2014             350.8\n",
            "22  2015             352.8\n",
            "23  2016             350.6\n",
            "24  2017             351.7\n",
            "25  2018             351.4\n",
            "26  2019             348.8\n",
            "27  2020             287.2\n",
            "28  2021             293.1\n",
            "29  2022             307.5\n",
            "30  2023             306.4\n"
          ]
        }
      ]
    },
    {
      "cell_type": "code",
      "source": [
        "business_df = pd.read_excel('business.xlsx')"
      ],
      "metadata": {
        "id": "EoQWvIBTN7Vs"
      },
      "execution_count": 4,
      "outputs": []
    },
    {
      "cell_type": "code",
      "source": [
        "print(business_df.head())"
      ],
      "metadata": {
        "id": "1KoGsmVCQVRo",
        "colab": {
          "base_uri": "https://localhost:8080/"
        },
        "outputId": "ab47891d-3a7c-408e-9490-fbe1dbe3651d"
      },
      "execution_count": 5,
      "outputs": [
        {
          "output_type": "stream",
          "name": "stdout",
          "text": [
            "   Year                           city1                          city2  \\\n",
            "0  2021  Allentown/Bethlehem/Easton, PA  Tampa, FL (Metropolitan Area)   \n",
            "1  2021  Allentown/Bethlehem/Easton, PA  Tampa, FL (Metropolitan Area)   \n",
            "2  2021                 Albuquerque, NM          Dallas/Fort Worth, TX   \n",
            "3  2021                 Albuquerque, NM          Dallas/Fort Worth, TX   \n",
            "4  2021                 Albuquerque, NM                    Phoenix, AZ   \n",
            "\n",
            "   passengers    fare  \n",
            "0         180   81.43  \n",
            "1          19  208.93  \n",
            "2         204  184.56  \n",
            "3         264  182.64  \n",
            "4         398  177.11  \n"
          ]
        }
      ]
    },
    {
      "cell_type": "code",
      "source": [
        "filtered_business_df = business_df[business_df['city1'].str.contains('New York') | business_df['city2'].str.contains('New York')]"
      ],
      "metadata": {
        "id": "ocD8KN2TO_Or"
      },
      "execution_count": 6,
      "outputs": []
    },
    {
      "cell_type": "code",
      "source": [
        "filtered_business_df = filtered_business_df[filtered_business_df['Year'] != 2024]"
      ],
      "metadata": {
        "id": "TXvS8Wr6dZMX"
      },
      "execution_count": 7,
      "outputs": []
    },
    {
      "cell_type": "code",
      "source": [
        "print(filtered_business_df.shape)"
      ],
      "metadata": {
        "id": "uB4dH6YGZk1h",
        "colab": {
          "base_uri": "https://localhost:8080/"
        },
        "outputId": "7914f8e3-eb94-4db1-c8e3-1284ecfa81b1"
      },
      "execution_count": 8,
      "outputs": [
        {
          "output_type": "stream",
          "name": "stdout",
          "text": [
            "(59674, 5)\n"
          ]
        }
      ]
    },
    {
      "cell_type": "code",
      "source": [
        "dropped_filtered_business_df = filtered_business_df.drop(['city1','city2','fare'], axis=1)"
      ],
      "metadata": {
        "id": "tjy3L0rebPXj"
      },
      "execution_count": 9,
      "outputs": []
    },
    {
      "cell_type": "code",
      "source": [
        "print(dropped_filtered_business_df.shape)"
      ],
      "metadata": {
        "id": "9XzQCF9Bb8rx",
        "colab": {
          "base_uri": "https://localhost:8080/"
        },
        "outputId": "7717b4b2-ed55-497d-ff5d-498dfd5d905f"
      },
      "execution_count": 10,
      "outputs": [
        {
          "output_type": "stream",
          "name": "stdout",
          "text": [
            "(59674, 2)\n"
          ]
        }
      ]
    },
    {
      "cell_type": "code",
      "source": [
        "summed_dropped_filtered_business_df = dropped_filtered_business_df.groupby('Year')['passengers'].sum().reset_index()"
      ],
      "metadata": {
        "id": "dqfAaBQufTPu"
      },
      "execution_count": 11,
      "outputs": []
    },
    {
      "cell_type": "code",
      "source": [
        "print(summed_dropped_filtered_business_df)"
      ],
      "metadata": {
        "id": "JYYAfDl5gKW3",
        "colab": {
          "base_uri": "https://localhost:8080/"
        },
        "outputId": "d7328973-e514-4206-f6c9-181958778b74"
      },
      "execution_count": 12,
      "outputs": [
        {
          "output_type": "stream",
          "name": "stdout",
          "text": [
            "    Year  passengers\n",
            "0   1993      355094\n",
            "1   1994       85549\n",
            "2   1996      404162\n",
            "3   1997      439490\n",
            "4   1998      444400\n",
            "5   1999      476886\n",
            "6   2000      508042\n",
            "7   2001      469028\n",
            "8   2002      461198\n",
            "9   2003      488774\n",
            "10  2004      546673\n",
            "11  2005      580233\n",
            "12  2006      590281\n",
            "13  2007      585094\n",
            "14  2008      554040\n",
            "15  2009      525716\n",
            "16  2010      526027\n",
            "17  2011      534865\n",
            "18  2012      541567\n",
            "19  2013      560934\n",
            "20  2014      565616\n",
            "21  2015      595311\n",
            "22  2016      631792\n",
            "23  2017      659328\n",
            "24  2018      689771\n",
            "25  2019      707834\n",
            "26  2020      200213\n",
            "27  2021      426566\n",
            "28  2022      655448\n",
            "29  2023      715912\n"
          ]
        }
      ]
    },
    {
      "cell_type": "code",
      "source": [
        "merged_NY_df = pd.merge(New_York_df, summed_dropped_filtered_business_df, on='Year', how='inner')"
      ],
      "metadata": {
        "id": "a8ppb0dn1hSs"
      },
      "execution_count": 13,
      "outputs": []
    },
    {
      "cell_type": "code",
      "source": [
        "print(merged_NY_df)"
      ],
      "metadata": {
        "id": "mpjbnsWM3CW4",
        "colab": {
          "base_uri": "https://localhost:8080/"
        },
        "outputId": "380dcbfb-be22-4c66-ca2c-35f0a0e40e10"
      },
      "execution_count": 14,
      "outputs": [
        {
          "output_type": "stream",
          "name": "stdout",
          "text": [
            "    Year  retail_employees  passengers\n",
            "0   1993             234.0      355094\n",
            "1   1994             237.0       85549\n",
            "2   1996             248.5      404162\n",
            "3   1997             253.4      439490\n",
            "4   1998             260.4      444400\n",
            "5   1999             270.4      476886\n",
            "6   2000             281.8      508042\n",
            "7   2001             272.2      469028\n",
            "8   2002             268.3      461198\n",
            "9   2003             267.5      488774\n",
            "10  2004             273.7      546673\n",
            "11  2005             281.5      580233\n",
            "12  2006             287.6      590281\n",
            "13  2007             295.6      585094\n",
            "14  2008             299.7      554040\n",
            "15  2009             292.1      525716\n",
            "16  2010             302.8      526027\n",
            "17  2011             314.5      534865\n",
            "18  2012             328.0      541567\n",
            "19  2013             340.2      560934\n",
            "20  2014             350.8      565616\n",
            "21  2015             352.8      595311\n",
            "22  2016             350.6      631792\n",
            "23  2017             351.7      659328\n",
            "24  2018             351.4      689771\n",
            "25  2019             348.8      707834\n",
            "26  2020             287.2      200213\n",
            "27  2021             293.1      426566\n",
            "28  2022             307.5      655448\n",
            "29  2023             306.4      715912\n"
          ]
        }
      ]
    },
    {
      "cell_type": "code",
      "source": [
        "#Make File!!\n",
        "merged_NY_df.to_excel('NY_final.xlsx',index=False, sheet_name='Processed_Data')"
      ],
      "metadata": {
        "id": "KJ9QwjJ-ee6j"
      },
      "execution_count": 15,
      "outputs": []
    }
  ]
}