{
  "nbformat": 4,
  "nbformat_minor": 0,
  "metadata": {
    "colab": {
      "provenance": []
    },
    "kernelspec": {
      "name": "python3",
      "display_name": "Python 3"
    },
    "language_info": {
      "name": "python"
    }
  },
  "cells": [
    {
      "cell_type": "code",
      "source": [
        "import pandas as pd\n",
        "import matplotlib.pyplot as plt\n",
        "import numpy as np"
      ],
      "metadata": {
        "id": "gSE397DUH4nl"
      },
      "execution_count": null,
      "outputs": []
    },
    {
      "cell_type": "code",
      "source": [
        "Kansas_City_df = pd.read_excel('employees.xlsx', sheet_name='Kansas City')"
      ],
      "metadata": {
        "id": "Lal1PPnR6icV"
      },
      "execution_count": null,
      "outputs": []
    },
    {
      "cell_type": "code",
      "source": [
        "print(Kansas_City_df.head(35))"
      ],
      "metadata": {
        "colab": {
          "base_uri": "https://localhost:8080/"
        },
        "id": "dL2Mu2XHMmtR",
        "outputId": "387072a6-07ef-49f6-8cd3-4dcef19d7707"
      },
      "execution_count": null,
      "outputs": [
        {
          "output_type": "stream",
          "name": "stdout",
          "text": [
            "    Year  retail_employees\n",
            "0   1993              43.6\n",
            "1   1994              44.3\n",
            "2   1995              45.0\n",
            "3   1996              45.6\n",
            "4   1997              46.0\n",
            "5   1998              47.9\n",
            "6   1999              48.0\n",
            "7   2000              47.9\n",
            "8   2001              48.0\n",
            "9   2002              47.2\n",
            "10  2003              47.4\n",
            "11  2004              48.4\n",
            "12  2005              47.9\n",
            "13  2006              46.9\n",
            "14  2007              47.0\n",
            "15  2008              46.3\n",
            "16  2009              44.3\n",
            "17  2010              44.1\n",
            "18  2011              44.7\n",
            "19  2012              45.5\n",
            "20  2013              46.4\n",
            "21  2014              47.7\n",
            "22  2015              48.9\n",
            "23  2016              49.8\n",
            "24  2017              49.4\n",
            "25  2018              48.9\n",
            "26  2019              47.7\n",
            "27  2020              45.1\n",
            "28  2021              46.4\n",
            "29  2022              47.2\n",
            "30  2023              48.0\n"
          ]
        }
      ]
    },
    {
      "cell_type": "code",
      "source": [
        "business_df = pd.read_excel('business.xlsx')"
      ],
      "metadata": {
        "id": "6HyCZWYZOqOc"
      },
      "execution_count": null,
      "outputs": []
    },
    {
      "cell_type": "code",
      "source": [
        "filtered_business_df = pd.read_excel('business.xlsx')"
      ],
      "metadata": {
        "id": "EKgLDYdqPA1e"
      },
      "execution_count": null,
      "outputs": []
    },
    {
      "cell_type": "code",
      "source": [
        "print(business_df.head())"
      ],
      "metadata": {
        "colab": {
          "base_uri": "https://localhost:8080/"
        },
        "id": "ulzYy6PIRYK-",
        "outputId": "aa7dfe26-948f-4892-a027-f0f21cec58d9"
      },
      "execution_count": null,
      "outputs": [
        {
          "output_type": "stream",
          "name": "stdout",
          "text": [
            "   Year                           city1                          city2  \\\n",
            "0  2021  Allentown/Bethlehem/Easton, PA  Tampa, FL (Metropolitan Area)   \n",
            "1  2021  Allentown/Bethlehem/Easton, PA  Tampa, FL (Metropolitan Area)   \n",
            "2  2021                 Albuquerque, NM          Dallas/Fort Worth, TX   \n",
            "3  2021                 Albuquerque, NM          Dallas/Fort Worth, TX   \n",
            "4  2021                 Albuquerque, NM                    Phoenix, AZ   \n",
            "\n",
            "   passengers    fare  \n",
            "0         180   81.43  \n",
            "1          19  208.93  \n",
            "2         204  184.56  \n",
            "3         264  182.64  \n",
            "4         398  177.11  \n"
          ]
        }
      ]
    },
    {
      "cell_type": "code",
      "source": [
        "filtered_business_df = business_df[business_df['city1'].str.contains('Kansas City') | business_df['city2'].str.contains('Bay City') ]"
      ],
      "metadata": {
        "id": "2mCj1sILZGs2"
      },
      "execution_count": null,
      "outputs": []
    },
    {
      "cell_type": "code",
      "source": [
        "print(filtered_business_df.head())"
      ],
      "metadata": {
        "colab": {
          "base_uri": "https://localhost:8080/"
        },
        "id": "chTm5LUOZkaB",
        "outputId": "cd15d327-df3d-47a1-d081-37a7af66c82e"
      },
      "execution_count": null,
      "outputs": [
        {
          "output_type": "stream",
          "name": "stdout",
          "text": [
            "      Year            city1                                  city2  \\\n",
            "1856  2021  Kansas City, MO                            Phoenix, AZ   \n",
            "1857  2021  Kansas City, MO     Washington, DC (Metropolitan Area)   \n",
            "1858  2021  Kansas City, MO     Washington, DC (Metropolitan Area)   \n",
            "1859  2021  Kansas City, MO     Washington, DC (Metropolitan Area)   \n",
            "1860  2021  Kansas City, MO  New York City, NY (Metropolitan Area)   \n",
            "\n",
            "      passengers    fare  \n",
            "1856         592  219.06  \n",
            "1857         317  209.16  \n",
            "1858         261  209.80  \n",
            "1859         147  234.51  \n",
            "1860         151  251.06  \n"
          ]
        }
      ]
    },
    {
      "cell_type": "code",
      "source": [
        "print(filtered_business_df.head(50))"
      ],
      "metadata": {
        "colab": {
          "base_uri": "https://localhost:8080/"
        },
        "id": "gjo5x3boZusb",
        "outputId": "288b82c6-c9b1-4111-a9dc-eba77a0493e7"
      },
      "execution_count": null,
      "outputs": [
        {
          "output_type": "stream",
          "name": "stdout",
          "text": [
            "      Year            city1                                  city2  \\\n",
            "1856  2021  Kansas City, MO                            Phoenix, AZ   \n",
            "1857  2021  Kansas City, MO     Washington, DC (Metropolitan Area)   \n",
            "1858  2021  Kansas City, MO     Washington, DC (Metropolitan Area)   \n",
            "1859  2021  Kansas City, MO     Washington, DC (Metropolitan Area)   \n",
            "1860  2021  Kansas City, MO  New York City, NY (Metropolitan Area)   \n",
            "1861  2021  Kansas City, MO  New York City, NY (Metropolitan Area)   \n",
            "1862  2021  Kansas City, MO  New York City, NY (Metropolitan Area)   \n",
            "1863  2021  Kansas City, MO  New York City, NY (Metropolitan Area)   \n",
            "1864  2021  Kansas City, MO  New York City, NY (Metropolitan Area)   \n",
            "1865  2021  Kansas City, MO  New York City, NY (Metropolitan Area)   \n",
            "1866  2021  Kansas City, MO  San Francisco, CA (Metropolitan Area)   \n",
            "1867  2021  Kansas City, MO  San Francisco, CA (Metropolitan Area)   \n",
            "1868  2021  Kansas City, MO  San Francisco, CA (Metropolitan Area)   \n",
            "1869  2021  Kansas City, MO          Miami, FL (Metropolitan Area)   \n",
            "1870  2021  Kansas City, MO          Miami, FL (Metropolitan Area)   \n",
            "1871  2021  Kansas City, MO    Los Angeles, CA (Metropolitan Area)   \n",
            "1872  2021  Kansas City, MO    Los Angeles, CA (Metropolitan Area)   \n",
            "1873  2021  Kansas City, MO    Los Angeles, CA (Metropolitan Area)   \n",
            "1874  2021  Kansas City, MO    Los Angeles, CA (Metropolitan Area)   \n",
            "1875  2021  Kansas City, MO    Los Angeles, CA (Metropolitan Area)   \n",
            "1876  2021  Kansas City, MO          Tampa, FL (Metropolitan Area)   \n",
            "1877  2021  Kansas City, MO          Tampa, FL (Metropolitan Area)   \n",
            "3828  2021  Kansas City, MO                            Phoenix, AZ   \n",
            "3829  2021  Kansas City, MO     Washington, DC (Metropolitan Area)   \n",
            "3830  2021  Kansas City, MO     Washington, DC (Metropolitan Area)   \n",
            "3831  2021  Kansas City, MO     Washington, DC (Metropolitan Area)   \n",
            "3832  2021  Kansas City, MO  New York City, NY (Metropolitan Area)   \n",
            "3833  2021  Kansas City, MO  New York City, NY (Metropolitan Area)   \n",
            "3834  2021  Kansas City, MO  New York City, NY (Metropolitan Area)   \n",
            "3835  2021  Kansas City, MO  New York City, NY (Metropolitan Area)   \n",
            "3836  2021  Kansas City, MO  New York City, NY (Metropolitan Area)   \n",
            "3837  2021  Kansas City, MO  San Francisco, CA (Metropolitan Area)   \n",
            "3838  2021  Kansas City, MO  San Francisco, CA (Metropolitan Area)   \n",
            "3839  2021  Kansas City, MO  San Francisco, CA (Metropolitan Area)   \n",
            "3840  2021  Kansas City, MO          Miami, FL (Metropolitan Area)   \n",
            "3841  2021  Kansas City, MO          Miami, FL (Metropolitan Area)   \n",
            "3842  2021  Kansas City, MO    Los Angeles, CA (Metropolitan Area)   \n",
            "3843  2021  Kansas City, MO    Los Angeles, CA (Metropolitan Area)   \n",
            "3844  2021  Kansas City, MO    Los Angeles, CA (Metropolitan Area)   \n",
            "3845  2021  Kansas City, MO    Los Angeles, CA (Metropolitan Area)   \n",
            "3846  2021  Kansas City, MO    Los Angeles, CA (Metropolitan Area)   \n",
            "3847  2021  Kansas City, MO          Tampa, FL (Metropolitan Area)   \n",
            "3848  2021  Kansas City, MO          Tampa, FL (Metropolitan Area)   \n",
            "5752  2022  Kansas City, MO                            Phoenix, AZ   \n",
            "5753  2022  Kansas City, MO     Washington, DC (Metropolitan Area)   \n",
            "5754  2022  Kansas City, MO     Washington, DC (Metropolitan Area)   \n",
            "5755  2022  Kansas City, MO     Washington, DC (Metropolitan Area)   \n",
            "5756  2022  Kansas City, MO  New York City, NY (Metropolitan Area)   \n",
            "5757  2022  Kansas City, MO  New York City, NY (Metropolitan Area)   \n",
            "5758  2022  Kansas City, MO  New York City, NY (Metropolitan Area)   \n",
            "\n",
            "      passengers    fare  \n",
            "1856         592  219.06  \n",
            "1857         317  209.16  \n",
            "1858         261  209.80  \n",
            "1859         147  234.51  \n",
            "1860         151  251.06  \n",
            "1861           7  257.43  \n",
            "1862          18  265.09  \n",
            "1863          19  270.87  \n",
            "1864         442  243.55  \n",
            "1865           1  270.80  \n",
            "1866         198  245.71  \n",
            "1867         152  259.93  \n",
            "1868          85  256.81  \n",
            "1869         263  167.41  \n",
            "1870         226  171.25  \n",
            "1871          46  220.16  \n",
            "1872         667  180.75  \n",
            "1873          27  193.65  \n",
            "1874          79  248.34  \n",
            "1875         213  193.53  \n",
            "1876          43   80.82  \n",
            "1877         378  181.96  \n",
            "3828         785  236.03  \n",
            "3829         273  198.72  \n",
            "3830         399  189.24  \n",
            "3831         154  202.58  \n",
            "3832         267  211.80  \n",
            "3833          10  226.02  \n",
            "3834          11  198.96  \n",
            "3835          17  247.78  \n",
            "3836         600  209.10  \n",
            "3837         189  271.21  \n",
            "3838         148  272.52  \n",
            "3839          78  288.20  \n",
            "3840         245  195.14  \n",
            "3841         289  188.75  \n",
            "3842          43  267.96  \n",
            "3843         709  202.59  \n",
            "3844          28  205.99  \n",
            "3845          72  266.95  \n",
            "3846         131  229.64  \n",
            "3847          11   95.04  \n",
            "3848         411  191.64  \n",
            "5752         795  265.04  \n",
            "5753         168  211.64  \n",
            "5754         304  194.53  \n",
            "5755          68  233.82  \n",
            "5756         199  197.82  \n",
            "5757           6  196.01  \n",
            "5758           8  175.83  \n"
          ]
        }
      ]
    },
    {
      "cell_type": "code",
      "source": [
        "print(filtered_business_df.shape)"
      ],
      "metadata": {
        "colab": {
          "base_uri": "https://localhost:8080/"
        },
        "id": "igBN6Rp-alrQ",
        "outputId": "30c6fd75-7861-4203-f5ce-9dc2b0ce12cd"
      },
      "execution_count": null,
      "outputs": [
        {
          "output_type": "stream",
          "name": "stdout",
          "text": [
            "(3233, 5)\n"
          ]
        }
      ]
    },
    {
      "cell_type": "code",
      "source": [
        "dropped_filtered_business_df = filtered_business_df.drop(['city1','city2','fare'], axis=1)\n",
        "print(dropped_filtered_business_df.shape)"
      ],
      "metadata": {
        "colab": {
          "base_uri": "https://localhost:8080/"
        },
        "id": "AZrEL6LhbWHc",
        "outputId": "41dab12e-dc64-40b5-fd4d-220d875f56b9"
      },
      "execution_count": null,
      "outputs": [
        {
          "output_type": "stream",
          "name": "stdout",
          "text": [
            "(3233, 2)\n"
          ]
        }
      ]
    },
    {
      "cell_type": "code",
      "source": [
        "filtered_business_df = filtered_business_df[business_df['Year'] != 2024]"
      ],
      "metadata": {
        "colab": {
          "base_uri": "https://localhost:8080/"
        },
        "id": "0UeDv-pqdk6H",
        "outputId": "f6f88421-a3ee-461c-d089-95fa6a2d95b1"
      },
      "execution_count": null,
      "outputs": [
        {
          "output_type": "stream",
          "name": "stderr",
          "text": [
            "<ipython-input-34-02b285071e04>:1: UserWarning: Boolean Series key will be reindexed to match DataFrame index.\n",
            "  filtered_business_df = filtered_business_df[business_df['Year'] != 2024]\n"
          ]
        }
      ]
    },
    {
      "cell_type": "code",
      "source": [
        "print(filtered_business_df.shape)"
      ],
      "metadata": {
        "colab": {
          "base_uri": "https://localhost:8080/"
        },
        "id": "whJLUiVveB0v",
        "outputId": "5dda7b4b-eab5-4615-ac4d-a2c90df91e4f"
      },
      "execution_count": null,
      "outputs": [
        {
          "output_type": "stream",
          "name": "stdout",
          "text": [
            "(3212, 5)\n"
          ]
        }
      ]
    },
    {
      "cell_type": "code",
      "source": [
        "dropped_filtered_business_df = filtered_business_df.drop(['city1','city2','fare'], axis=1)\n",
        "print(dropped_filtered_business_df.shape)"
      ],
      "metadata": {
        "colab": {
          "base_uri": "https://localhost:8080/"
        },
        "id": "AU5EqnK_eXD9",
        "outputId": "200aea28-f00a-4321-c1a8-373cc669ed4a"
      },
      "execution_count": null,
      "outputs": [
        {
          "output_type": "stream",
          "name": "stdout",
          "text": [
            "(3212, 2)\n"
          ]
        }
      ]
    },
    {
      "cell_type": "code",
      "source": [
        "summed_dropped_filtered_business_df = dropped_filtered_business_df.groupby('Year')['passengers'].sum().reset_index()"
      ],
      "metadata": {
        "id": "K3QlEWKEfP-k"
      },
      "execution_count": null,
      "outputs": []
    },
    {
      "cell_type": "code",
      "source": [
        "print(summed_dropped_filtered_business_df)"
      ],
      "metadata": {
        "colab": {
          "base_uri": "https://localhost:8080/"
        },
        "id": "iNsMPkfNgK1z",
        "outputId": "df5745d1-a7a1-4310-a86a-8bbcc348631c"
      },
      "execution_count": null,
      "outputs": [
        {
          "output_type": "stream",
          "name": "stdout",
          "text": [
            "    Year  passengers\n",
            "0   1993       13217\n",
            "1   1994        3347\n",
            "2   1996       29639\n",
            "3   1997       43311\n",
            "4   1998       18502\n",
            "5   1999       24499\n",
            "6   2000       33308\n",
            "7   2001       46040\n",
            "8   2002       42556\n",
            "9   2003       37717\n",
            "10  2004       33047\n",
            "11  2005       46558\n",
            "12  2006       48882\n",
            "13  2007       33686\n",
            "14  2008       28861\n",
            "15  2009       33630\n",
            "16  2010       33026\n",
            "17  2011       21617\n",
            "18  2012       21121\n",
            "19  2013       20707\n",
            "20  2014       20983\n",
            "21  2015       22303\n",
            "22  2016       23674\n",
            "23  2017       24099\n",
            "24  2018       24373\n",
            "25  2019       24167\n",
            "26  2020        8682\n",
            "27  2021       15020\n",
            "28  2022       21222\n",
            "29  2023       23354\n"
          ]
        }
      ]
    },
    {
      "cell_type": "code",
      "source": [
        "merged_KC_df = pd.merge(Kansas_City_df, summed_dropped_filtered_business_df, on='Year', how='inner')"
      ],
      "metadata": {
        "id": "UkOcvkMb527i"
      },
      "execution_count": null,
      "outputs": []
    },
    {
      "cell_type": "code",
      "source": [
        "print(merged_KC_df)"
      ],
      "metadata": {
        "colab": {
          "base_uri": "https://localhost:8080/"
        },
        "id": "jpcpgEga6MEa",
        "outputId": "f62b923b-325c-45a7-9a17-318b3b41a198"
      },
      "execution_count": null,
      "outputs": [
        {
          "output_type": "stream",
          "name": "stdout",
          "text": [
            "    Year  retail_employees  passengers\n",
            "0   1993              43.6       13217\n",
            "1   1994              44.3        3347\n",
            "2   1996              45.6       29639\n",
            "3   1997              46.0       43311\n",
            "4   1998              47.9       18502\n",
            "5   1999              48.0       24499\n",
            "6   2000              47.9       33308\n",
            "7   2001              48.0       46040\n",
            "8   2002              47.2       42556\n",
            "9   2003              47.4       37717\n",
            "10  2004              48.4       33047\n",
            "11  2005              47.9       46558\n",
            "12  2006              46.9       48882\n",
            "13  2007              47.0       33686\n",
            "14  2008              46.3       28861\n",
            "15  2009              44.3       33630\n",
            "16  2010              44.1       33026\n",
            "17  2011              44.7       21617\n",
            "18  2012              45.5       21121\n",
            "19  2013              46.4       20707\n",
            "20  2014              47.7       20983\n",
            "21  2015              48.9       22303\n",
            "22  2016              49.8       23674\n",
            "23  2017              49.4       24099\n",
            "24  2018              48.9       24373\n",
            "25  2019              47.7       24167\n",
            "26  2020              45.1        8682\n",
            "27  2021              46.4       15020\n",
            "28  2022              47.2       21222\n",
            "29  2023              48.0       23354\n"
          ]
        }
      ]
    },
    {
      "cell_type": "code",
      "source": [
        "#Make File!\n",
        "merged_KC_df.to_excel('KC_final.xlsx', index = False, sheet_name = \"Processed_data\")"
      ],
      "metadata": {
        "id": "zmMNHDLZehSZ"
      },
      "execution_count": null,
      "outputs": []
    }
  ]
}