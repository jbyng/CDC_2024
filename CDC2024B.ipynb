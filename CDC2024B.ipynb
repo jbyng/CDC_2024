{
  "nbformat": 4,
  "nbformat_minor": 0,
  "metadata": {
    "colab": {
      "provenance": []
    },
    "kernelspec": {
      "name": "python3",
      "display_name": "Python 3"
    },
    "language_info": {
      "name": "python"
    }
  },
  "cells": [
    {
      "cell_type": "code",
      "source": [
        "import pandas as pd\n",
        "import matplotlib.pyplot as plt\n",
        "import numpy as np"
      ],
      "metadata": {
        "id": "gSE397DUH4nl"
      },
      "execution_count": null,
      "outputs": []
    },
    {
      "cell_type": "code",
      "source": [
        "Baltimore_df = pd.read_excel('employees.xlsx', sheet_name='Baltimore')"
      ],
      "metadata": {
        "id": "tI5KN66qMbbE"
      },
      "execution_count": null,
      "outputs": []
    },
    {
      "cell_type": "code",
      "source": [
        "print(Baltimore_df.head(35))"
      ],
      "metadata": {
        "colab": {
          "base_uri": "https://localhost:8080/"
        },
        "id": "dL2Mu2XHMmtR",
        "outputId": "bdb1eb87-57b1-4899-e836-44f0ae13f1aa"
      },
      "execution_count": null,
      "outputs": [
        {
          "output_type": "stream",
          "name": "stdout",
          "text": [
            "    Year  retail_employees\n",
            "0   1993              30.2\n",
            "1   1994              30.7\n",
            "2   1995              30.0\n",
            "3   1996              28.7\n",
            "4   1997              28.4\n",
            "5   1998              28.0\n",
            "6   1999              27.4\n",
            "7   2000              25.9\n",
            "8   2001              22.3\n",
            "9   2002              20.5\n",
            "10  2003              19.5\n",
            "11  2004              20.0\n",
            "12  2005              19.2\n",
            "13  2006              18.4\n",
            "14  2007              18.1\n",
            "15  2008              17.3\n",
            "16  2009              16.1\n",
            "17  2010              15.6\n",
            "18  2011              16.1\n",
            "19  2012              16.4\n",
            "20  2013              16.6\n",
            "21  2014              16.9\n",
            "22  2015              16.6\n",
            "23  2016              16.3\n",
            "24  2017              15.8\n",
            "25  2018              15.1\n",
            "26  2019              14.6\n",
            "27  2020              13.2\n",
            "28  2021              13.5\n",
            "29  2022              13.4\n",
            "30  2023              13.5\n"
          ]
        }
      ]
    },
    {
      "cell_type": "code",
      "source": [
        "business_df = pd.read_excel('business.xlsx')"
      ],
      "metadata": {
        "id": "6HyCZWYZOqOc"
      },
      "execution_count": null,
      "outputs": []
    },
    {
      "cell_type": "code",
      "source": [
        "filtered_business_df = pd.read_excel('business.xlsx')"
      ],
      "metadata": {
        "id": "EKgLDYdqPA1e"
      },
      "execution_count": null,
      "outputs": []
    },
    {
      "cell_type": "code",
      "source": [
        "print(business_df.head())"
      ],
      "metadata": {
        "id": "ulzYy6PIRYK-",
        "colab": {
          "base_uri": "https://localhost:8080/"
        },
        "outputId": "fa018f0b-a8ca-48ab-8f46-a922318a7fed"
      },
      "execution_count": null,
      "outputs": [
        {
          "output_type": "stream",
          "name": "stdout",
          "text": [
            "   Year                           city1                          city2  \\\n",
            "0  2021  Allentown/Bethlehem/Easton, PA  Tampa, FL (Metropolitan Area)   \n",
            "1  2021  Allentown/Bethlehem/Easton, PA  Tampa, FL (Metropolitan Area)   \n",
            "2  2021                 Albuquerque, NM          Dallas/Fort Worth, TX   \n",
            "3  2021                 Albuquerque, NM          Dallas/Fort Worth, TX   \n",
            "4  2021                 Albuquerque, NM                    Phoenix, AZ   \n",
            "\n",
            "   passengers    fare  \n",
            "0         180   81.43  \n",
            "1          19  208.93  \n",
            "2         204  184.56  \n",
            "3         264  182.64  \n",
            "4         398  177.11  \n"
          ]
        }
      ]
    },
    {
      "cell_type": "code",
      "source": [
        "filtered_business_df = business_df[business_df['city1'].str.contains('Washington') | business_df['city2'].str.contains('Washington') ]"
      ],
      "metadata": {
        "id": "2mCj1sILZGs2"
      },
      "execution_count": null,
      "outputs": []
    },
    {
      "cell_type": "code",
      "source": [
        "print(filtered_business_df.head())"
      ],
      "metadata": {
        "id": "chTm5LUOZkaB",
        "colab": {
          "base_uri": "https://localhost:8080/"
        },
        "outputId": "b87fee5d-5f3b-4f1f-fef2-6818dc9dc00c"
      },
      "execution_count": null,
      "outputs": [
        {
          "output_type": "stream",
          "name": "stdout",
          "text": [
            "    Year                 city1                               city2  \\\n",
            "8   2021       Albuquerque, NM  Washington, DC (Metropolitan Area)   \n",
            "9   2021       Albuquerque, NM  Washington, DC (Metropolitan Area)   \n",
            "10  2021       Albuquerque, NM  Washington, DC (Metropolitan Area)   \n",
            "36  2021  Colorado Springs, CO  Washington, DC (Metropolitan Area)   \n",
            "37  2021  Colorado Springs, CO  Washington, DC (Metropolitan Area)   \n",
            "\n",
            "    passengers    fare  \n",
            "8          159  255.89  \n",
            "9          151  291.16  \n",
            "10          59  343.58  \n",
            "36          65  251.59  \n",
            "37          84  278.14  \n"
          ]
        }
      ]
    },
    {
      "cell_type": "code",
      "source": [
        "print(filtered_business_df.head(50))"
      ],
      "metadata": {
        "id": "gjo5x3boZusb",
        "colab": {
          "base_uri": "https://localhost:8080/"
        },
        "outputId": "0a18c9a2-cc0d-423c-ff90-490e1eb23a0d"
      },
      "execution_count": null,
      "outputs": [
        {
          "output_type": "stream",
          "name": "stdout",
          "text": [
            "     Year                              city1  \\\n",
            "8    2021                    Albuquerque, NM   \n",
            "9    2021                    Albuquerque, NM   \n",
            "10   2021                    Albuquerque, NM   \n",
            "36   2021               Colorado Springs, CO   \n",
            "37   2021               Colorado Springs, CO   \n",
            "38   2021               Colorado Springs, CO   \n",
            "60   2021              Dallas/Fort Worth, TX   \n",
            "61   2021              Dallas/Fort Worth, TX   \n",
            "62   2021              Dallas/Fort Worth, TX   \n",
            "63   2021              Dallas/Fort Worth, TX   \n",
            "64   2021              Dallas/Fort Worth, TX   \n",
            "65   2021              Dallas/Fort Worth, TX   \n",
            "191  2021                     Huntsville, AL   \n",
            "192  2021                     Huntsville, AL   \n",
            "193  2021                     Huntsville, AL   \n",
            "194  2021                         Albany, NY   \n",
            "195  2021                         Albany, NY   \n",
            "196  2021                         Albany, NY   \n",
            "211  2021                         Denver, CO   \n",
            "212  2021                         Denver, CO   \n",
            "213  2021                         Denver, CO   \n",
            "243  2021    Atlanta, GA (Metropolitan Area)   \n",
            "244  2021    Atlanta, GA (Metropolitan Area)   \n",
            "245  2021    Atlanta, GA (Metropolitan Area)   \n",
            "276  2021                         Austin, TX   \n",
            "277  2021                         Austin, TX   \n",
            "278  2021                         Austin, TX   \n",
            "307  2021                         Tucson, AZ   \n",
            "308  2021                         Tucson, AZ   \n",
            "309  2021                         Tucson, AZ   \n",
            "313  2021                        Phoenix, AZ   \n",
            "314  2021                        Phoenix, AZ   \n",
            "315  2021                        Phoenix, AZ   \n",
            "335  2021                       Hartford, CT   \n",
            "336  2021                       Hartford, CT   \n",
            "337  2021                       Hartford, CT   \n",
            "349  2021                        Seattle, WA   \n",
            "350  2021                        Seattle, WA   \n",
            "351  2021                        Seattle, WA   \n",
            "355  2021                     Birmingham, AL   \n",
            "356  2021                     Birmingham, AL   \n",
            "357  2021                     Birmingham, AL   \n",
            "377  2021                        El Paso, TX   \n",
            "378  2021                        El Paso, TX   \n",
            "379  2021                        El Paso, TX   \n",
            "403  2021  Cleveland, OH (Metropolitan Area)   \n",
            "404  2021  Cleveland, OH (Metropolitan Area)   \n",
            "405  2021  Cleveland, OH (Metropolitan Area)   \n",
            "406  2021  Cleveland, OH (Metropolitan Area)   \n",
            "407  2021  Cleveland, OH (Metropolitan Area)   \n",
            "\n",
            "                                  city2  passengers    fare  \n",
            "8    Washington, DC (Metropolitan Area)         159  255.89  \n",
            "9    Washington, DC (Metropolitan Area)         151  291.16  \n",
            "10   Washington, DC (Metropolitan Area)          59  343.58  \n",
            "36   Washington, DC (Metropolitan Area)          65  251.59  \n",
            "37   Washington, DC (Metropolitan Area)          84  278.14  \n",
            "38   Washington, DC (Metropolitan Area)          63  301.82  \n",
            "60   Washington, DC (Metropolitan Area)         649  176.22  \n",
            "61   Washington, DC (Metropolitan Area)         278  202.77  \n",
            "62   Washington, DC (Metropolitan Area)          17  226.73  \n",
            "63   Washington, DC (Metropolitan Area)         647  181.97  \n",
            "64   Washington, DC (Metropolitan Area)         722  252.24  \n",
            "65   Washington, DC (Metropolitan Area)         352  248.61  \n",
            "191  Washington, DC (Metropolitan Area)          37  270.79  \n",
            "192  Washington, DC (Metropolitan Area)         129  274.03  \n",
            "193  Washington, DC (Metropolitan Area)          76  244.29  \n",
            "194  Washington, DC (Metropolitan Area)         129  173.61  \n",
            "195  Washington, DC (Metropolitan Area)          83  210.15  \n",
            "196  Washington, DC (Metropolitan Area)          46  216.55  \n",
            "211  Washington, DC (Metropolitan Area)        1173  201.47  \n",
            "212  Washington, DC (Metropolitan Area)         759  174.94  \n",
            "213  Washington, DC (Metropolitan Area)        1091  234.96  \n",
            "243  Washington, DC (Metropolitan Area)        1640  150.03  \n",
            "244  Washington, DC (Metropolitan Area)        1464  163.76  \n",
            "245  Washington, DC (Metropolitan Area)         683  153.95  \n",
            "276  Washington, DC (Metropolitan Area)         408  213.39  \n",
            "277  Washington, DC (Metropolitan Area)         319  228.91  \n",
            "278  Washington, DC (Metropolitan Area)         356  232.01  \n",
            "307  Washington, DC (Metropolitan Area)          82  281.12  \n",
            "308  Washington, DC (Metropolitan Area)          92  294.24  \n",
            "309  Washington, DC (Metropolitan Area)          46  301.84  \n",
            "313  Washington, DC (Metropolitan Area)         530  251.82  \n",
            "314  Washington, DC (Metropolitan Area)         487  271.57  \n",
            "315  Washington, DC (Metropolitan Area)         283  275.61  \n",
            "335  Washington, DC (Metropolitan Area)         153  167.29  \n",
            "336  Washington, DC (Metropolitan Area)         160  184.39  \n",
            "337  Washington, DC (Metropolitan Area)         130  173.56  \n",
            "349  Washington, DC (Metropolitan Area)         521  258.97  \n",
            "350  Washington, DC (Metropolitan Area)         564  260.19  \n",
            "351  Washington, DC (Metropolitan Area)         782  252.70  \n",
            "355  Washington, DC (Metropolitan Area)          91  194.02  \n",
            "356  Washington, DC (Metropolitan Area)         130  231.66  \n",
            "357  Washington, DC (Metropolitan Area)          24  255.77  \n",
            "377  Washington, DC (Metropolitan Area)          77  296.52  \n",
            "378  Washington, DC (Metropolitan Area)          98  287.29  \n",
            "379  Washington, DC (Metropolitan Area)          37  343.64  \n",
            "403  Washington, DC (Metropolitan Area)          19  134.90  \n",
            "404  Washington, DC (Metropolitan Area)          14  136.48  \n",
            "405  Washington, DC (Metropolitan Area)         186  140.18  \n",
            "406  Washington, DC (Metropolitan Area)         118  155.64  \n",
            "407  Washington, DC (Metropolitan Area)         123  168.55  \n"
          ]
        }
      ]
    },
    {
      "cell_type": "code",
      "source": [
        "print(filtered_business_df.shape)"
      ],
      "metadata": {
        "id": "igBN6Rp-alrQ",
        "colab": {
          "base_uri": "https://localhost:8080/"
        },
        "outputId": "31b76742-2141-4503-a6cf-ddea64240bb0"
      },
      "execution_count": null,
      "outputs": [
        {
          "output_type": "stream",
          "name": "stdout",
          "text": [
            "(32015, 5)\n"
          ]
        }
      ]
    },
    {
      "cell_type": "code",
      "source": [
        "dropped_filtered_business_df = filtered_business_df.drop(['city1','city2','fare'], axis=1)\n",
        "print(dropped_filtered_business_df.shape)"
      ],
      "metadata": {
        "id": "AZrEL6LhbWHc",
        "colab": {
          "base_uri": "https://localhost:8080/"
        },
        "outputId": "67736b72-2d44-410b-ce54-605253712053"
      },
      "execution_count": null,
      "outputs": [
        {
          "output_type": "stream",
          "name": "stdout",
          "text": [
            "(32015, 2)\n"
          ]
        }
      ]
    },
    {
      "cell_type": "code",
      "source": [
        "filtered_business_df = filtered_business_df[business_df['Year'] != 2024]"
      ],
      "metadata": {
        "id": "0UeDv-pqdk6H",
        "colab": {
          "base_uri": "https://localhost:8080/"
        },
        "outputId": "b54d3949-39d6-4e00-8d2b-4065340f3f80"
      },
      "execution_count": null,
      "outputs": [
        {
          "output_type": "stream",
          "name": "stderr",
          "text": [
            "<ipython-input-71-02b285071e04>:1: UserWarning: Boolean Series key will be reindexed to match DataFrame index.\n",
            "  filtered_business_df = filtered_business_df[business_df['Year'] != 2024]\n"
          ]
        }
      ]
    },
    {
      "cell_type": "code",
      "source": [
        "print(filtered_business_df.shape)"
      ],
      "metadata": {
        "id": "whJLUiVveB0v",
        "colab": {
          "base_uri": "https://localhost:8080/"
        },
        "outputId": "f4e72bd9-5efd-4685-ea90-ada7842a1e5e"
      },
      "execution_count": null,
      "outputs": [
        {
          "output_type": "stream",
          "name": "stdout",
          "text": [
            "(31773, 5)\n"
          ]
        }
      ]
    },
    {
      "cell_type": "code",
      "source": [
        "dropped_filtered_business_df = filtered_business_df.drop(['city1','city2','fare'], axis=1)\n",
        "print(dropped_filtered_business_df.shape)"
      ],
      "metadata": {
        "id": "AU5EqnK_eXD9",
        "colab": {
          "base_uri": "https://localhost:8080/"
        },
        "outputId": "c8aefac2-c40f-4070-8350-44e24d9a5d34"
      },
      "execution_count": null,
      "outputs": [
        {
          "output_type": "stream",
          "name": "stdout",
          "text": [
            "(31773, 2)\n"
          ]
        }
      ]
    },
    {
      "cell_type": "code",
      "source": [
        "summed_dropped_filtered_business_df = dropped_filtered_business_df.groupby('Year')['passengers'].sum().reset_index()"
      ],
      "metadata": {
        "id": "K3QlEWKEfP-k"
      },
      "execution_count": null,
      "outputs": []
    },
    {
      "cell_type": "code",
      "source": [
        "print(summed_dropped_filtered_business_df)"
      ],
      "metadata": {
        "id": "iNsMPkfNgK1z",
        "colab": {
          "base_uri": "https://localhost:8080/"
        },
        "outputId": "7e3a1caf-62a1-4638-f4e7-9d99f89189b0"
      },
      "execution_count": null,
      "outputs": [
        {
          "output_type": "stream",
          "name": "stdout",
          "text": [
            "    Year  passengers\n",
            "0   1993      196988\n",
            "1   1994       46556\n",
            "2   1996      239359\n",
            "3   1997      267300\n",
            "4   1998      283605\n",
            "5   1999      309042\n",
            "6   2000      328551\n",
            "7   2001      302612\n",
            "8   2002      289849\n",
            "9   2003      307984\n",
            "10  2004      335988\n",
            "11  2005      382703\n",
            "12  2006      370269\n",
            "13  2007      373060\n",
            "14  2008      355353\n",
            "15  2009      350414\n",
            "16  2010      357224\n",
            "17  2011      353929\n",
            "18  2012      351064\n",
            "19  2013      350511\n",
            "20  2014      354388\n",
            "21  2015      375380\n",
            "22  2016      386097\n",
            "23  2017      399743\n",
            "24  2018      400023\n",
            "25  2019      402666\n",
            "26  2020      126639\n",
            "27  2021      227582\n",
            "28  2022      341482\n",
            "29  2023      379895\n"
          ]
        }
      ]
    },
    {
      "cell_type": "code",
      "source": [
        "merged_PC_df = pd.merge(Baltimore_df, summed_dropped_filtered_business_df, on='Year', how='inner')"
      ],
      "metadata": {
        "id": "7z-4rK4w40oN"
      },
      "execution_count": null,
      "outputs": []
    },
    {
      "cell_type": "code",
      "source": [
        "#Make File!\n",
        "merged_PC_df.to_excel('B_final.xlsx', index = False, sheet_name = \"Processed_data\")"
      ],
      "metadata": {
        "id": "zmMNHDLZehSZ"
      },
      "execution_count": null,
      "outputs": []
    }
  ]
}