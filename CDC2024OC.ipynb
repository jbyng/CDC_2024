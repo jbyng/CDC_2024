{
  "nbformat": 4,
  "nbformat_minor": 0,
  "metadata": {
    "colab": {
      "provenance": []
    },
    "kernelspec": {
      "name": "python3",
      "display_name": "Python 3"
    },
    "language_info": {
      "name": "python"
    }
  },
  "cells": [
    {
      "cell_type": "code",
      "source": [
        "import pandas as pd\n",
        "import matplotlib.pyplot as plt\n",
        "import numpy as np"
      ],
      "metadata": {
        "id": "gSE397DUH4nl"
      },
      "execution_count": null,
      "outputs": []
    },
    {
      "cell_type": "code",
      "source": [
        "Oklahoma_City_df = pd.read_excel('employees.xlsx', sheet_name='Oklahoma City')"
      ],
      "metadata": {
        "id": "tI5KN66qMbbE"
      },
      "execution_count": null,
      "outputs": []
    },
    {
      "cell_type": "code",
      "source": [
        "print(Oklahoma_City_df.head(35))"
      ],
      "metadata": {
        "colab": {
          "base_uri": "https://localhost:8080/"
        },
        "id": "dL2Mu2XHMmtR",
        "outputId": "94b880f9-5c91-4c62-936f-52db13528e12"
      },
      "execution_count": null,
      "outputs": [
        {
          "output_type": "stream",
          "name": "stdout",
          "text": [
            "    Year  retail_employees\n",
            "0   1993              52.1\n",
            "1   1994              54.2\n",
            "2   1995              55.7\n",
            "3   1996              57.2\n",
            "4   1997              57.9\n",
            "5   1998              58.7\n",
            "6   1999              60.7\n",
            "7   2000              62.6\n",
            "8   2001              61.6\n",
            "9   2002              61.5\n",
            "10  2003              60.6\n",
            "11  2004              60.4\n",
            "12  2005              61.4\n",
            "13  2006              61.5\n",
            "14  2007              62.0\n",
            "15  2008              62.3\n",
            "16  2009              60.2\n",
            "17  2010              60.1\n",
            "18  2011              61.2\n",
            "19  2012              62.4\n",
            "20  2013              64.2\n",
            "21  2014              66.0\n",
            "22  2015              67.7\n",
            "23  2016              68.2\n",
            "24  2017              66.7\n",
            "25  2018              66.2\n",
            "26  2019              65.9\n",
            "27  2020              65.6\n",
            "28  2021              68.4\n",
            "29  2022              70.1\n",
            "30  2023              70.7\n"
          ]
        }
      ]
    },
    {
      "cell_type": "code",
      "source": [
        "business_df = pd.read_excel('business.xlsx')"
      ],
      "metadata": {
        "id": "6HyCZWYZOqOc"
      },
      "execution_count": null,
      "outputs": []
    },
    {
      "cell_type": "code",
      "source": [
        "filtered_business_df = pd.read_excel('business.xlsx')"
      ],
      "metadata": {
        "id": "EKgLDYdqPA1e"
      },
      "execution_count": null,
      "outputs": []
    },
    {
      "cell_type": "code",
      "source": [
        "print(business_df.head())"
      ],
      "metadata": {
        "colab": {
          "base_uri": "https://localhost:8080/"
        },
        "id": "ulzYy6PIRYK-",
        "outputId": "61e803d6-1254-44ae-d665-a9134d73576e"
      },
      "execution_count": null,
      "outputs": [
        {
          "output_type": "stream",
          "name": "stdout",
          "text": [
            "   Year                           city1                          city2  \\\n",
            "0  2021  Allentown/Bethlehem/Easton, PA  Tampa, FL (Metropolitan Area)   \n",
            "1  2021  Allentown/Bethlehem/Easton, PA  Tampa, FL (Metropolitan Area)   \n",
            "2  2021                 Albuquerque, NM          Dallas/Fort Worth, TX   \n",
            "3  2021                 Albuquerque, NM          Dallas/Fort Worth, TX   \n",
            "4  2021                 Albuquerque, NM                    Phoenix, AZ   \n",
            "\n",
            "   passengers    fare  \n",
            "0         180   81.43  \n",
            "1          19  208.93  \n",
            "2         204  184.56  \n",
            "3         264  182.64  \n",
            "4         398  177.11  \n"
          ]
        }
      ]
    },
    {
      "cell_type": "code",
      "source": [
        "filtered_business_df = business_df[business_df['city1'].str.contains('Oklahoma City') | business_df['city2'].str.contains('Iowa City') ]"
      ],
      "metadata": {
        "id": "2mCj1sILZGs2"
      },
      "execution_count": null,
      "outputs": []
    },
    {
      "cell_type": "code",
      "source": [
        "print(filtered_business_df.head())"
      ],
      "metadata": {
        "colab": {
          "base_uri": "https://localhost:8080/"
        },
        "id": "chTm5LUOZkaB",
        "outputId": "5872313c-7766-4d67-af31-0a2404a09265"
      },
      "execution_count": null,
      "outputs": [
        {
          "output_type": "stream",
          "name": "stdout",
          "text": [
            "      Year              city1                               city2  passengers  \\\n",
            "1963  2021  Oklahoma City, OK                         Phoenix, AZ         260   \n",
            "1964  2021  Oklahoma City, OK  Washington, DC (Metropolitan Area)          79   \n",
            "1965  2021  Oklahoma City, OK  Washington, DC (Metropolitan Area)         176   \n",
            "1966  2021  Oklahoma City, OK  Washington, DC (Metropolitan Area)          39   \n",
            "3926  2021  Oklahoma City, OK                         Phoenix, AZ         341   \n",
            "\n",
            "        fare  \n",
            "1963  200.12  \n",
            "1964  247.64  \n",
            "1965  225.31  \n",
            "1966  246.53  \n",
            "3926  207.82  \n"
          ]
        }
      ]
    },
    {
      "cell_type": "code",
      "source": [
        "print(filtered_business_df.head(50))"
      ],
      "metadata": {
        "colab": {
          "base_uri": "https://localhost:8080/"
        },
        "id": "gjo5x3boZusb",
        "outputId": "59f4135b-0e57-44d5-9848-bc75571e1815"
      },
      "execution_count": null,
      "outputs": [
        {
          "output_type": "stream",
          "name": "stdout",
          "text": [
            "       Year              city1                                  city2  \\\n",
            "1963   2021  Oklahoma City, OK                            Phoenix, AZ   \n",
            "1964   2021  Oklahoma City, OK     Washington, DC (Metropolitan Area)   \n",
            "1965   2021  Oklahoma City, OK     Washington, DC (Metropolitan Area)   \n",
            "1966   2021  Oklahoma City, OK     Washington, DC (Metropolitan Area)   \n",
            "3926   2021  Oklahoma City, OK                            Phoenix, AZ   \n",
            "3927   2021  Oklahoma City, OK     Washington, DC (Metropolitan Area)   \n",
            "3928   2021  Oklahoma City, OK     Washington, DC (Metropolitan Area)   \n",
            "3929   2021  Oklahoma City, OK     Washington, DC (Metropolitan Area)   \n",
            "3930   2021  Oklahoma City, OK          Tampa, FL (Metropolitan Area)   \n",
            "5846   2022  Oklahoma City, OK                            Phoenix, AZ   \n",
            "5847   2022  Oklahoma City, OK     Washington, DC (Metropolitan Area)   \n",
            "5848   2022  Oklahoma City, OK     Washington, DC (Metropolitan Area)   \n",
            "5849   2022  Oklahoma City, OK     Washington, DC (Metropolitan Area)   \n",
            "5944   2005  Oklahoma City, OK  San Francisco, CA (Metropolitan Area)   \n",
            "6118   2004  Oklahoma City, OK     Washington, DC (Metropolitan Area)   \n",
            "6269   2003  Oklahoma City, OK  San Francisco, CA (Metropolitan Area)   \n",
            "6285   1996  Oklahoma City, OK     Washington, DC (Metropolitan Area)   \n",
            "6676   2003  Oklahoma City, OK     Washington, DC (Metropolitan Area)   \n",
            "6689   1997  Oklahoma City, OK     Washington, DC (Metropolitan Area)   \n",
            "6989   2008  Oklahoma City, OK     Washington, DC (Metropolitan Area)   \n",
            "7358   2007  Oklahoma City, OK     Washington, DC (Metropolitan Area)   \n",
            "7924   1993  Oklahoma City, OK  San Francisco, CA (Metropolitan Area)   \n",
            "9336   2005  Oklahoma City, OK  San Francisco, CA (Metropolitan Area)   \n",
            "9440   2008  Oklahoma City, OK  San Francisco, CA (Metropolitan Area)   \n",
            "9728   2009  Oklahoma City, OK     Washington, DC (Metropolitan Area)   \n",
            "10394  2010  Oklahoma City, OK                            Phoenix, AZ   \n",
            "11117  1993  Oklahoma City, OK     Washington, DC (Metropolitan Area)   \n",
            "11244  2009  Oklahoma City, OK     Washington, DC (Metropolitan Area)   \n",
            "11325  2003  Oklahoma City, OK     Washington, DC (Metropolitan Area)   \n",
            "11359  2008  Oklahoma City, OK     Washington, DC (Metropolitan Area)   \n",
            "11424  2004  Oklahoma City, OK     Washington, DC (Metropolitan Area)   \n",
            "12793  2005  Oklahoma City, OK     Washington, DC (Metropolitan Area)   \n",
            "13322  2001  Oklahoma City, OK     Washington, DC (Metropolitan Area)   \n",
            "13662  1997  Oklahoma City, OK  San Francisco, CA (Metropolitan Area)   \n",
            "13668  2013  Oklahoma City, OK  San Francisco, CA (Metropolitan Area)   \n",
            "14635  2003  Oklahoma City, OK  San Francisco, CA (Metropolitan Area)   \n",
            "14949  2014  Oklahoma City, OK  San Francisco, CA (Metropolitan Area)   \n",
            "15172  2013  Oklahoma City, OK     Washington, DC (Metropolitan Area)   \n",
            "15852  1993  Oklahoma City, OK     Washington, DC (Metropolitan Area)   \n",
            "16152  2014  Oklahoma City, OK  San Francisco, CA (Metropolitan Area)   \n",
            "16244  2001  Oklahoma City, OK  San Francisco, CA (Metropolitan Area)   \n",
            "16533  1993  Oklahoma City, OK     Washington, DC (Metropolitan Area)   \n",
            "18153  2002  Oklahoma City, OK     Washington, DC (Metropolitan Area)   \n",
            "18626  2001  Oklahoma City, OK     Washington, DC (Metropolitan Area)   \n",
            "18972  1998  Oklahoma City, OK     Washington, DC (Metropolitan Area)   \n",
            "19122  2014  Oklahoma City, OK     Washington, DC (Metropolitan Area)   \n",
            "19338  1993  Oklahoma City, OK  San Francisco, CA (Metropolitan Area)   \n",
            "19359  1998  Oklahoma City, OK  San Francisco, CA (Metropolitan Area)   \n",
            "19387  2001  Oklahoma City, OK  San Francisco, CA (Metropolitan Area)   \n",
            "19456  1997  Oklahoma City, OK  San Francisco, CA (Metropolitan Area)   \n",
            "\n",
            "       passengers    fare  \n",
            "1963          260  200.12  \n",
            "1964           79  247.64  \n",
            "1965          176  225.31  \n",
            "1966           39  246.53  \n",
            "3926          341  207.82  \n",
            "3927           75  234.62  \n",
            "3928          214  209.54  \n",
            "3929           46  257.46  \n",
            "3930          184  153.62  \n",
            "5846          283  228.17  \n",
            "5847           46  251.69  \n",
            "5848          160  216.61  \n",
            "5849           24  253.54  \n",
            "5944           80  182.93  \n",
            "6118          155  204.93  \n",
            "6269           44  200.94  \n",
            "6285            0  169.50  \n",
            "6676           45  229.55  \n",
            "6689          184  156.60  \n",
            "6989           71  292.15  \n",
            "7358          131  210.04  \n",
            "7924           96  190.73  \n",
            "9336           57  201.30  \n",
            "9440          115  183.06  \n",
            "9728           62  292.66  \n",
            "10394         246  211.23  \n",
            "11117           5  198.19  \n",
            "11244         267  177.35  \n",
            "11325         131  199.76  \n",
            "11359         284  173.28  \n",
            "11424          57  226.79  \n",
            "12793          49  254.45  \n",
            "13322          37  308.46  \n",
            "13662          43  223.48  \n",
            "13668          48  299.81  \n",
            "14635          58  171.48  \n",
            "14949          32  277.33  \n",
            "15172         186  255.13  \n",
            "15852           4  238.65  \n",
            "16152          41  308.43  \n",
            "16244          54  207.95  \n",
            "16533          43  234.60  \n",
            "18153         119  194.23  \n",
            "18626         264  149.37  \n",
            "18972          31  284.31  \n",
            "19122         185  240.94  \n",
            "19338         100  170.73  \n",
            "19359         138  160.29  \n",
            "19387          74  147.82  \n",
            "19456          50  184.95  \n"
          ]
        }
      ]
    },
    {
      "cell_type": "code",
      "source": [
        "print(filtered_business_df.shape)"
      ],
      "metadata": {
        "colab": {
          "base_uri": "https://localhost:8080/"
        },
        "id": "igBN6Rp-alrQ",
        "outputId": "6b4eab25-9f49-43fb-eb74-aeb3489beb25"
      },
      "execution_count": null,
      "outputs": [
        {
          "output_type": "stream",
          "name": "stdout",
          "text": [
            "(727, 5)\n"
          ]
        }
      ]
    },
    {
      "cell_type": "code",
      "source": [
        "dropped_filtered_business_df = filtered_business_df.drop(['city1','city2','fare'], axis=1)\n",
        "print(dropped_filtered_business_df.shape)"
      ],
      "metadata": {
        "colab": {
          "base_uri": "https://localhost:8080/"
        },
        "id": "AZrEL6LhbWHc",
        "outputId": "e9bcd6b2-3cea-4123-bff6-0a9c3174e524"
      },
      "execution_count": null,
      "outputs": [
        {
          "output_type": "stream",
          "name": "stdout",
          "text": [
            "(727, 2)\n"
          ]
        }
      ]
    },
    {
      "cell_type": "code",
      "source": [
        "filtered_business_df = filtered_business_df[business_df['Year'] != 2024]"
      ],
      "metadata": {
        "colab": {
          "base_uri": "https://localhost:8080/"
        },
        "id": "0UeDv-pqdk6H",
        "outputId": "58b33c28-51c7-4236-eab3-6e60f9664a85"
      },
      "execution_count": null,
      "outputs": [
        {
          "output_type": "stream",
          "name": "stderr",
          "text": [
            "<ipython-input-49-02b285071e04>:1: UserWarning: Boolean Series key will be reindexed to match DataFrame index.\n",
            "  filtered_business_df = filtered_business_df[business_df['Year'] != 2024]\n"
          ]
        }
      ]
    },
    {
      "cell_type": "code",
      "source": [
        "print(filtered_business_df.shape)"
      ],
      "metadata": {
        "colab": {
          "base_uri": "https://localhost:8080/"
        },
        "id": "whJLUiVveB0v",
        "outputId": "eeda6084-29ae-48e9-dc6b-c33552da1a3d"
      },
      "execution_count": null,
      "outputs": [
        {
          "output_type": "stream",
          "name": "stdout",
          "text": [
            "(723, 5)\n"
          ]
        }
      ]
    },
    {
      "cell_type": "code",
      "source": [
        "dropped_filtered_business_df = filtered_business_df.drop(['city1','city2','fare'], axis=1)\n",
        "print(dropped_filtered_business_df.shape)"
      ],
      "metadata": {
        "colab": {
          "base_uri": "https://localhost:8080/"
        },
        "id": "AU5EqnK_eXD9",
        "outputId": "bcf196bd-a149-4517-a184-dde8ef61f116"
      },
      "execution_count": null,
      "outputs": [
        {
          "output_type": "stream",
          "name": "stdout",
          "text": [
            "(723, 2)\n"
          ]
        }
      ]
    },
    {
      "cell_type": "code",
      "source": [
        "summed_dropped_filtered_business_df = dropped_filtered_business_df.groupby('Year')['passengers'].sum().reset_index()"
      ],
      "metadata": {
        "id": "K3QlEWKEfP-k"
      },
      "execution_count": null,
      "outputs": []
    },
    {
      "cell_type": "code",
      "source": [
        "print(summed_dropped_filtered_business_df)"
      ],
      "metadata": {
        "colab": {
          "base_uri": "https://localhost:8080/"
        },
        "id": "iNsMPkfNgK1z",
        "outputId": "85741fe9-ccfc-4255-c490-dd2426a197ff"
      },
      "execution_count": null,
      "outputs": [
        {
          "output_type": "stream",
          "name": "stdout",
          "text": [
            "    Year  passengers\n",
            "0   1993        1626\n",
            "1   1994         374\n",
            "2   1996        2634\n",
            "3   1997        2276\n",
            "4   1998        2467\n",
            "5   1999        2546\n",
            "6   2000        2376\n",
            "7   2001        2383\n",
            "8   2002        2033\n",
            "9   2003        2148\n",
            "10  2004        2162\n",
            "11  2005        2250\n",
            "12  2006        2342\n",
            "13  2007        2317\n",
            "14  2008        3704\n",
            "15  2009        3397\n",
            "16  2010        3129\n",
            "17  2011        3179\n",
            "18  2012        3237\n",
            "19  2013        3124\n",
            "20  2014        3434\n",
            "21  2015        3361\n",
            "22  2016        3227\n",
            "23  2017        2893\n",
            "24  2018        3714\n",
            "25  2019        3872\n",
            "26  2020        1502\n",
            "27  2021        2257\n",
            "28  2022        2635\n",
            "29  2023        2968\n"
          ]
        }
      ]
    },
    {
      "cell_type": "code",
      "source": [
        "merged_OC_df = pd.merge(Oklahoma_City_df, summed_dropped_filtered_business_df, on='Year', how='inner')"
      ],
      "metadata": {
        "id": "YvsZrV0Z3S-D"
      },
      "execution_count": null,
      "outputs": []
    },
    {
      "cell_type": "code",
      "source": [
        "print(merged_IC_df)"
      ],
      "metadata": {
        "colab": {
          "base_uri": "https://localhost:8080/"
        },
        "id": "VQXUc1QN3cbc",
        "outputId": "f6015156-04e6-4645-cb22-400098ddef6e"
      },
      "execution_count": null,
      "outputs": [
        {
          "output_type": "stream",
          "name": "stdout",
          "text": [
            "    Year  retail_employees  passengers\n",
            "0   1993              52.1        1626\n",
            "1   1994              54.2         374\n",
            "2   1996              57.2        2634\n",
            "3   1997              57.9        2276\n",
            "4   1998              58.7        2467\n",
            "5   1999              60.7        2546\n",
            "6   2000              62.6        2376\n",
            "7   2001              61.6        2383\n",
            "8   2002              61.5        2033\n",
            "9   2003              60.6        2148\n",
            "10  2004              60.4        2162\n",
            "11  2005              61.4        2250\n",
            "12  2006              61.5        2342\n",
            "13  2007              62.0        2317\n",
            "14  2008              62.3        3704\n",
            "15  2009              60.2        3397\n",
            "16  2010              60.1        3129\n",
            "17  2011              61.2        3179\n",
            "18  2012              62.4        3237\n",
            "19  2013              64.2        3124\n",
            "20  2014              66.0        3434\n",
            "21  2015              67.7        3361\n",
            "22  2016              68.2        3227\n",
            "23  2017              66.7        2893\n",
            "24  2018              66.2        3714\n",
            "25  2019              65.9        3872\n",
            "26  2020              65.6        1502\n",
            "27  2021              68.4        2257\n",
            "28  2022              70.1        2635\n",
            "29  2023              70.7        2968\n"
          ]
        }
      ]
    },
    {
      "cell_type": "code",
      "source": [
        "#Make File!\n",
        "merged_OC_df.to_excel('OC_final.xlsx', index = False, sheet_name = \"Processed_data\")"
      ],
      "metadata": {
        "id": "zmMNHDLZehSZ"
      },
      "execution_count": null,
      "outputs": []
    }
  ]
}